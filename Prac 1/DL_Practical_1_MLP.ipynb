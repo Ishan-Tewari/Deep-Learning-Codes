{
  "nbformat": 4,
  "nbformat_minor": 0,
  "metadata": {
    "colab": {
      "name": "DL Practical 1 MLP.ipynb",
      "provenance": [],
      "collapsed_sections": []
    },
    "kernelspec": {
      "display_name": "Python 3",
      "name": "python3"
    }
  },
  "cells": [
    {
      "cell_type": "code",
      "metadata": {
        "id": "lEuLbuV0qugd"
      },
      "source": [
        "from sklearn import metrics\n",
        "import numpy as np\n",
        "import gzip\n",
        "import pickle\n",
        "from sklearn.neural_network import MLPClassifier"
      ],
      "execution_count": 3,
      "outputs": []
    },
    {
      "cell_type": "code",
      "metadata": {
        "id": "0unZb-98yopW"
      },
      "source": [
        "with gzip.open('mnist.pkl.gz', 'rb') as f:\n",
        "        train_set, valid_set, test_set = pickle.load(f,encoding='latin')"
      ],
      "execution_count": 4,
      "outputs": []
    },
    {
      "cell_type": "code",
      "metadata": {
        "id": "jSHwA5QXy81Y"
      },
      "source": [
        "X_train = train_set[0]\n",
        "y_train = train_set[1]\n",
        "\n",
        "X_val = valid_set[0]\n",
        "y_val = valid_set[1]\n",
        "\n",
        "X_test = test_set[0]\n",
        "y_test = test_set[1]"
      ],
      "execution_count": 5,
      "outputs": []
    },
    {
      "cell_type": "code",
      "metadata": {
        "colab": {
          "base_uri": "https://localhost:8080/"
        },
        "id": "VYfEu-q02o-J",
        "outputId": "5ca21f83-48c5-4fcf-ea6a-bf732cc92fef"
      },
      "source": [
        "X_train = np.concatenate((X_train,X_val))\n",
        "y_train = np.concatenate((y_train,y_val))\n",
        "print(X_train.shape)\n",
        "print(y_train.shape)"
      ],
      "execution_count": 6,
      "outputs": [
        {
          "output_type": "stream",
          "text": [
            "(60000, 784)\n",
            "(60000,)\n"
          ],
          "name": "stdout"
        }
      ]
    },
    {
      "cell_type": "code",
      "metadata": {
        "id": "vsxC1hNA4D5V"
      },
      "source": [
        "X_train = X_train/255\n",
        "X_test = X_test/255"
      ],
      "execution_count": 7,
      "outputs": []
    },
    {
      "cell_type": "code",
      "metadata": {
        "colab": {
          "base_uri": "https://localhost:8080/"
        },
        "id": "cd8dRe0O49uQ",
        "outputId": "f76949c0-15ce-48df-eab2-17da9884b441"
      },
      "source": [
        "mlp = MLPClassifier(hidden_layer_sizes=(512,256,128),max_iter=150,solver='adam',alpha=0.01,batch_size=256,activation='relu',early_stopping=True)\n",
        "mlp.fit(X_train,y_train)"
      ],
      "execution_count": 10,
      "outputs": [
        {
          "output_type": "execute_result",
          "data": {
            "text/plain": [
              "MLPClassifier(activation='relu', alpha=0.01, batch_size=256, beta_1=0.9,\n",
              "              beta_2=0.999, early_stopping=True, epsilon=1e-08,\n",
              "              hidden_layer_sizes=(512, 256, 128), learning_rate='constant',\n",
              "              learning_rate_init=0.001, max_fun=15000, max_iter=150,\n",
              "              momentum=0.9, n_iter_no_change=10, nesterovs_momentum=True,\n",
              "              power_t=0.5, random_state=None, shuffle=True, solver='adam',\n",
              "              tol=0.0001, validation_fraction=0.1, verbose=False,\n",
              "              warm_start=False)"
            ]
          },
          "metadata": {
            "tags": []
          },
          "execution_count": 10
        }
      ]
    },
    {
      "cell_type": "code",
      "metadata": {
        "id": "_SECD5a75ela"
      },
      "source": [
        "prediction = mlp.predict(X_test)"
      ],
      "execution_count": 11,
      "outputs": []
    },
    {
      "cell_type": "code",
      "metadata": {
        "id": "EBcPYzml6cth",
        "colab": {
          "base_uri": "https://localhost:8080/"
        },
        "outputId": "dd7c7280-78cb-44e9-ad74-4ca3ba41c109"
      },
      "source": [
        "#calculating various metrics\n",
        "print(\"\\n-------------------------Accuracy Score----------------------------\\n\\t\\t\\t     \",metrics.accuracy_score(y_test, prediction, normalize= True))\n",
        "print(\"\\n---------------------Classification Report-------------------------\\n\",metrics.classification_report(y_test, prediction))\n",
        "print(\"\\n--------------------------Confusion Matrix-------------------------\\n\",metrics.confusion_matrix(y_test,prediction))"
      ],
      "execution_count": 12,
      "outputs": [
        {
          "output_type": "stream",
          "text": [
            "\n",
            "-------------------------Accuracy Score----------------------------\n",
            "\t\t\t      0.9753\n",
            "\n",
            "---------------------Classification Report-------------------------\n",
            "               precision    recall  f1-score   support\n",
            "\n",
            "           0       0.97      0.99      0.98       980\n",
            "           1       0.99      0.99      0.99      1135\n",
            "           2       0.97      0.98      0.97      1032\n",
            "           3       0.97      0.98      0.97      1010\n",
            "           4       0.97      0.98      0.97       982\n",
            "           5       0.97      0.98      0.98       892\n",
            "           6       0.98      0.98      0.98       958\n",
            "           7       0.98      0.96      0.97      1028\n",
            "           8       0.98      0.96      0.97       974\n",
            "           9       0.97      0.96      0.97      1009\n",
            "\n",
            "    accuracy                           0.98     10000\n",
            "   macro avg       0.98      0.98      0.98     10000\n",
            "weighted avg       0.98      0.98      0.98     10000\n",
            "\n",
            "\n",
            "--------------------------Confusion Matrix-------------------------\n",
            " [[ 972    0    3    0    0    0    3    1    1    0]\n",
            " [   0 1120    2    5    0    1    2    2    3    0]\n",
            " [   8    1 1009    4    3    0    3    1    3    0]\n",
            " [   0    0    4  988    0    8    0    5    2    3]\n",
            " [   1    0    3    0  958    0    5    4    0   11]\n",
            " [   3    1    0    6    1  875    3    1    0    2]\n",
            " [   6    3    2    1    6    3  935    0    2    0]\n",
            " [   2    8   11    4    1    0    0  992    2    8]\n",
            " [   7    0    4    8    3    6    5    2  933    6]\n",
            " [   4    3    0    5   13    5    0    5    3  971]]\n"
          ],
          "name": "stdout"
        }
      ]
    },
    {
      "cell_type": "code",
      "metadata": {
        "id": "VYESLm5R6gtQ"
      },
      "source": [
        ""
      ],
      "execution_count": null,
      "outputs": []
    }
  ]
}