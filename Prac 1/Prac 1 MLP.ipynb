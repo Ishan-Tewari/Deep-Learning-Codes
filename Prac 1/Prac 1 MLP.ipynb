{
 "cells": [
  {
   "cell_type": "code",
   "execution_count": 1,
   "metadata": {},
   "outputs": [],
   "source": [
    "from sklearn import metrics\n",
    "import numpy as np\n",
    "import gzip\n",
    "import pickle\n",
    "from sklearn.neural_network import MLPClassifier"
   ]
  },
  {
   "cell_type": "code",
   "execution_count": 2,
   "metadata": {},
   "outputs": [],
   "source": [
    "with gzip.open('mnist.pkl.gz', 'rb') as f:\n",
    "        train_set, valid_set, test_set = pickle.load(f,encoding='latin')"
   ]
  },
  {
   "cell_type": "code",
   "execution_count": 3,
   "metadata": {},
   "outputs": [],
   "source": [
    "X_train = train_set[0]\n",
    "y_train = train_set[1]\n",
    "\n",
    "X_val = valid_set[0]\n",
    "y_val = valid_set[1]\n",
    "\n",
    "X_test = test_set[0]\n",
    "y_test = test_set[1]"
   ]
  },
  {
   "cell_type": "code",
   "execution_count": 4,
   "metadata": {},
   "outputs": [
    {
     "name": "stdout",
     "output_type": "stream",
     "text": [
      "(60000, 784)\n",
      "(60000,)\n"
     ]
    }
   ],
   "source": [
    "X_train = np.concatenate((X_train,X_val))\n",
    "y_train = np.concatenate((y_train,y_val))\n",
    "print(X_train.shape)\n",
    "print(y_train.shape)"
   ]
  },
  {
   "cell_type": "code",
   "execution_count": 5,
   "metadata": {},
   "outputs": [],
   "source": [
    "X_train = X_train/255\n",
    "X_test = X_test/255"
   ]
  },
  {
   "cell_type": "code",
   "execution_count": 6,
   "metadata": {},
   "outputs": [
    {
     "name": "stderr",
     "output_type": "stream",
     "text": [
      "/Users/ishan/opt/anaconda3/lib/python3.7/site-packages/sklearn/neural_network/multilayer_perceptron.py:566: ConvergenceWarning: Stochastic Optimizer: Maximum iterations (150) reached and the optimization hasn't converged yet.\n",
      "  % self.max_iter, ConvergenceWarning)\n"
     ]
    },
    {
     "data": {
      "text/plain": [
       "MLPClassifier(activation='relu', alpha=0.01, batch_size='auto', beta_1=0.9,\n",
       "              beta_2=0.999, early_stopping=False, epsilon=1e-08,\n",
       "              hidden_layer_sizes=(392, 196, 49), learning_rate='constant',\n",
       "              learning_rate_init=0.001, max_iter=150, momentum=0.9,\n",
       "              n_iter_no_change=10, nesterovs_momentum=True, power_t=0.5,\n",
       "              random_state=None, shuffle=True, solver='adam', tol=0.0001,\n",
       "              validation_fraction=0.1, verbose=False, warm_start=False)"
      ]
     },
     "execution_count": 6,
     "metadata": {},
     "output_type": "execute_result"
    }
   ],
   "source": [
    "mlp = MLPClassifier(hidden_layer_sizes=(392,196,49),max_iter=150,solver='adam',alpha=0.01)\n",
    "mlp.fit(X_train,y_train)"
   ]
  },
  {
   "cell_type": "code",
   "execution_count": 7,
   "metadata": {},
   "outputs": [],
   "source": [
    "prediction = mlp.predict(X_test)"
   ]
  },
  {
   "cell_type": "code",
   "execution_count": 8,
   "metadata": {},
   "outputs": [
    {
     "name": "stdout",
     "output_type": "stream",
     "text": [
      "\n",
      "-------------------------Accuracy Score----------------------------\n",
      "\t\t\t      0.9776\n",
      "\n",
      "---------------------Classification Report-------------------------\n",
      "               precision    recall  f1-score   support\n",
      "\n",
      "           0       0.98      0.99      0.99       980\n",
      "           1       0.99      0.99      0.99      1135\n",
      "           2       0.98      0.98      0.98      1032\n",
      "           3       0.98      0.98      0.98      1010\n",
      "           4       0.97      0.98      0.97       982\n",
      "           5       0.98      0.97      0.97       892\n",
      "           6       0.97      0.98      0.97       958\n",
      "           7       0.98      0.97      0.98      1028\n",
      "           8       0.98      0.98      0.98       974\n",
      "           9       0.97      0.97      0.97      1009\n",
      "\n",
      "    accuracy                           0.98     10000\n",
      "   macro avg       0.98      0.98      0.98     10000\n",
      "weighted avg       0.98      0.98      0.98     10000\n",
      "\n",
      "\n",
      "--------------------------Confusion Matrix-------------------------\n",
      " [[ 968    0    2    0    0    3    4    1    2    0]\n",
      " [   0 1128    1    0    0    0    3    1    2    0]\n",
      " [   4    1 1010    2    2    0    3    6    4    0]\n",
      " [   0    0    8  986    0    7    0    4    3    2]\n",
      " [   0    0    1    0  958    0   10    1    0   12]\n",
      " [   3    1    0    9    1  863    8    1    3    3]\n",
      " [   2    3    1    0    8    6  935    0    3    0]\n",
      " [   1    7   10    3    2    0    1  998    1    5]\n",
      " [   2    0    1    3    4    1    3    2  954    4]\n",
      " [   3    2    0    6   11    4    0    5    2  976]]\n"
     ]
    }
   ],
   "source": [
    "#calculating various metrics\n",
    "print(\"\\n-------------------------Accuracy Score----------------------------\\n\\t\\t\\t     \",metrics.accuracy_score(y_test, prediction, normalize= True))\n",
    "print(\"\\n---------------------Classification Report-------------------------\\n\",metrics.classification_report(y_test, prediction))\n",
    "print(\"\\n--------------------------Confusion Matrix-------------------------\\n\",metrics.confusion_matrix(y_test,prediction))"
   ]
  },
  {
   "cell_type": "raw",
   "metadata": {},
   "source": []
  }
 ],
 "metadata": {
  "kernelspec": {
   "display_name": "Python 3",
   "language": "python",
   "name": "python3"
  },
  "language_info": {
   "codemirror_mode": {
    "name": "ipython",
    "version": 3
   },
   "file_extension": ".py",
   "mimetype": "text/x-python",
   "name": "python",
   "nbconvert_exporter": "python",
   "pygments_lexer": "ipython3",
   "version": "3.7.4"
  }
 },
 "nbformat": 4,
 "nbformat_minor": 2
}
