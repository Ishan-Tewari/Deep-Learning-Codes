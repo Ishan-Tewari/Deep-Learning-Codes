{
  "nbformat": 4,
  "nbformat_minor": 0,
  "metadata": {
    "colab": {
      "name": "DL Practical 2 & 3Keras.ipynb",
      "provenance": [],
      "toc_visible": true
    },
    "kernelspec": {
      "name": "python3",
      "display_name": "Python 3"
    },
    "accelerator": "GPU"
  },
  "cells": [
    {
      "cell_type": "markdown",
      "metadata": {
        "id": "We-veTPyQcqD"
      },
      "source": [
        "# Performing classification on MNIST Dataset using Keras"
      ]
    },
    {
      "cell_type": "markdown",
      "metadata": {
        "id": "7D1ZGtqrQiq7"
      },
      "source": [
        "## Importing necessary libraries"
      ]
    },
    {
      "cell_type": "code",
      "metadata": {
        "id": "ak3ZR44iELkh"
      },
      "source": [
        "import numpy as np\n",
        "import matplotlib.pyplot as plt\n",
        "%matplotlib inline\n",
        "import keras\n",
        "from keras.models import Sequential\n",
        "from keras.layers import Dense,Dropout\n",
        "from sklearn import metrics\n",
        "import seaborn as sns\n",
        "\n",
        "np.random.seed(0)"
      ],
      "execution_count": null,
      "outputs": []
    },
    {
      "cell_type": "markdown",
      "metadata": {
        "id": "mPA-nJUtQq3X"
      },
      "source": [
        "## Loading and dividing data into training and testing sets"
      ]
    },
    {
      "cell_type": "code",
      "metadata": {
        "id": "qLqjRy0kFIBB",
        "colab": {
          "base_uri": "https://localhost:8080/"
        },
        "outputId": "8cabe4c2-b3a9-46a8-9f69-3a4a200d734b"
      },
      "source": [
        "from keras.datasets import mnist\n",
        "(X_train,y_train),(X_test,y_test) = mnist.load_data()"
      ],
      "execution_count": null,
      "outputs": [
        {
          "output_type": "stream",
          "text": [
            "Downloading data from https://storage.googleapis.com/tensorflow/tf-keras-datasets/mnist.npz\n",
            "11493376/11490434 [==============================] - 0s 0us/step\n"
          ],
          "name": "stdout"
        }
      ]
    },
    {
      "cell_type": "code",
      "metadata": {
        "colab": {
          "base_uri": "https://localhost:8080/"
        },
        "id": "H4ReiVL1FSw4",
        "outputId": "b5725c10-6b4b-43c0-b87f-9c08997994ea"
      },
      "source": [
        "print(X_train.shape,y_train.shape)\n",
        "print(X_test.shape,y_test.shape)"
      ],
      "execution_count": null,
      "outputs": [
        {
          "output_type": "stream",
          "text": [
            "(60000, 28, 28) (60000,)\n",
            "(10000, 28, 28) (10000,)\n"
          ],
          "name": "stdout"
        }
      ]
    },
    {
      "cell_type": "markdown",
      "metadata": {
        "id": "hkSxR6AJSlz4"
      },
      "source": [
        "**Visualizing Data**"
      ]
    },
    {
      "cell_type": "code",
      "metadata": {
        "colab": {
          "base_uri": "https://localhost:8080/",
          "height": 160
        },
        "id": "jBEhZLcSSlCM",
        "outputId": "744113f6-7da7-437b-9e75-1ae43b418a5b"
      },
      "source": [
        "f, ax = plt.subplots(1, 10, figsize=(20,20))\n",
        "\n",
        "for i in range(0, 10):\n",
        "  sample = X_train[y_train == i][0]\n",
        "  ax[i].imshow(sample, cmap='gray')\n",
        "  ax[i].set_title(\"Label: {}\".format(i), fontsize=16)"
      ],
      "execution_count": null,
      "outputs": [
        {
          "output_type": "display_data",
          "data": {
            "image/png": "[encoded data removed]",
            "text/plain": [
              "<Figure size 1440x1440 with 10 Axes>"
            ]
          },
          "metadata": {
            "tags": [],
            "needs_background": "light"
          }
        }
      ]
    },
    {
      "cell_type": "code",
      "metadata": {
        "colab": {
          "base_uri": "https://localhost:8080/"
        },
        "id": "URXr1i8BFXjC",
        "outputId": "393abc6a-6da1-4925-f35d-21fe2ba3f8a1"
      },
      "source": [
        "y_train[0:10]"
      ],
      "execution_count": null,
      "outputs": [
        {
          "output_type": "execute_result",
          "data": {
            "text/plain": [
              "array([5, 0, 4, 1, 9, 2, 1, 3, 1, 4], dtype=uint8)"
            ]
          },
          "metadata": {
            "tags": []
          },
          "execution_count": 5
        }
      ]
    },
    {
      "cell_type": "code",
      "metadata": {
        "id": "E9MzH5wS1NSY"
      },
      "source": [
        "test_target = y_test  # saving target for checking accuracy"
      ],
      "execution_count": null,
      "outputs": []
    },
    {
      "cell_type": "markdown",
      "metadata": {
        "id": "0e8c0TJbQ2N-"
      },
      "source": [
        "**Converting labels into categorical binary values (one hot encoding)**"
      ]
    },
    {
      "cell_type": "code",
      "metadata": {
        "id": "gc6M-eY3Fpow"
      },
      "source": [
        "y_train = keras.utils.to_categorical(y_train,num_classes=10)\n",
        "y_test = keras.utils.to_categorical(y_test,num_classes=10)"
      ],
      "execution_count": null,
      "outputs": []
    },
    {
      "cell_type": "code",
      "metadata": {
        "colab": {
          "base_uri": "https://localhost:8080/"
        },
        "id": "7s8MNoCGF2mX",
        "outputId": "67e252ef-1233-409f-e4ad-d6235c03e9ca"
      },
      "source": [
        "print(y_train[0:10])"
      ],
      "execution_count": null,
      "outputs": [
        {
          "output_type": "stream",
          "text": [
            "[[0. 0. 0. 0. 0. 1. 0. 0. 0. 0.]\n",
            " [1. 0. 0. 0. 0. 0. 0. 0. 0. 0.]\n",
            " [0. 0. 0. 0. 1. 0. 0. 0. 0. 0.]\n",
            " [0. 1. 0. 0. 0. 0. 0. 0. 0. 0.]\n",
            " [0. 0. 0. 0. 0. 0. 0. 0. 0. 1.]\n",
            " [0. 0. 1. 0. 0. 0. 0. 0. 0. 0.]\n",
            " [0. 1. 0. 0. 0. 0. 0. 0. 0. 0.]\n",
            " [0. 0. 0. 1. 0. 0. 0. 0. 0. 0.]\n",
            " [0. 1. 0. 0. 0. 0. 0. 0. 0. 0.]\n",
            " [0. 0. 0. 0. 1. 0. 0. 0. 0. 0.]]\n"
          ],
          "name": "stdout"
        }
      ]
    },
    {
      "cell_type": "markdown",
      "metadata": {
        "id": "RzDtiFmNQ_Ii"
      },
      "source": [
        "**Normalizing dataset and flattening (28x28) into 784**"
      ]
    },
    {
      "cell_type": "code",
      "metadata": {
        "id": "6Fw92QxFF5Ht"
      },
      "source": [
        "X_train = X_train/255\n",
        "X_test = X_test/255"
      ],
      "execution_count": null,
      "outputs": []
    },
    {
      "cell_type": "code",
      "metadata": {
        "colab": {
          "base_uri": "https://localhost:8080/"
        },
        "id": "jVtsD2G8GHHR",
        "outputId": "b0cf9042-d82e-4040-c219-d357ddb203e7"
      },
      "source": [
        "X_train = X_train.reshape(X_train.shape[0],-1).astype('float32')\n",
        "X_test = X_test.reshape(X_test.shape[0],-1).astype('float32')\n",
        "\n",
        "print(X_train.shape)\n",
        "print(X_test.shape)"
      ],
      "execution_count": null,
      "outputs": [
        {
          "output_type": "stream",
          "text": [
            "(60000, 784)\n",
            "(10000, 784)\n"
          ],
          "name": "stdout"
        }
      ]
    },
    {
      "cell_type": "markdown",
      "metadata": {
        "id": "1pbD1TLzRyjb"
      },
      "source": [
        "## Build Model"
      ]
    },
    {
      "cell_type": "markdown",
      "metadata": {
        "id": "FfBcy22GRLRz"
      },
      "source": [
        "**Creating a model with** \n",
        "\n",
        "\n",
        "1.   i/p layer = 784\n",
        "2.   hidden layer = (512,256,128)\n",
        "3.   dropout layer with 25% dead neurons to stop overfitting\n",
        "4.   o/p layer = 10 with softmax for converting into 0 or 1\n",
        "\n"
      ]
    },
    {
      "cell_type": "code",
      "metadata": {
        "colab": {
          "base_uri": "https://localhost:8080/"
        },
        "id": "O1DOuAkFGa_5",
        "outputId": "8d2eb3c9-d6f3-48e9-e440-aaff79cba9b4"
      },
      "source": [
        "model = Sequential()\n",
        "\n",
        "model.add(Dense(units=784, input_shape = (784,), activation='relu'))\n",
        "# model.add(Dense(units=784, activation='relu'))\n",
        "# model.add(Dense(units=784, activation='relu'))\n",
        "\n",
        "# model.add(Dropout(0.25))\n",
        "model.add(Dense(units=10, activation='softmax'))\n",
        "model.summary()"
      ],
      "execution_count": null,
      "outputs": [
        {
          "output_type": "stream",
          "text": [
            "Model: \"sequential\"\n",
            "_________________________________________________________________\n",
            "Layer (type)                 Output Shape              Param #   \n",
            "=================================================================\n",
            "dense (Dense)                (None, 784)               615440    \n",
            "_________________________________________________________________\n",
            "dense_1 (Dense)              (None, 10)                7850      \n",
            "=================================================================\n",
            "Total params: 623,290\n",
            "Trainable params: 623,290\n",
            "Non-trainable params: 0\n",
            "_________________________________________________________________\n"
          ],
          "name": "stdout"
        }
      ]
    },
    {
      "cell_type": "markdown",
      "metadata": {
        "id": "8LsVlAO9eph9"
      },
      "source": [
        "**To visualize the model**"
      ]
    },
    {
      "cell_type": "code",
      "metadata": {
        "id": "aQtF-qntesGT"
      },
      "source": [
        "# !pip install ann_visualizer\n",
        "# !pip install graphviz\n",
        "\n",
        "# from ann_visualizer.visualize import ann_viz\n",
        "# ann_viz(model, title=\"\",view=True,filename='MyGraph');"
      ],
      "execution_count": null,
      "outputs": []
    },
    {
      "cell_type": "markdown",
      "metadata": {
        "id": "c7gBmciOR3Ho"
      },
      "source": [
        "**Compiling and fitting Model** "
      ]
    },
    {
      "cell_type": "code",
      "metadata": {
        "id": "WpCNmcWcINMX"
      },
      "source": [
        "model.compile(loss='categorical_crossentropy',optimizer='adam',metrics=['accuracy'])"
      ],
      "execution_count": null,
      "outputs": []
    },
    {
      "cell_type": "code",
      "metadata": {
        "colab": {
          "base_uri": "https://localhost:8080/"
        },
        "id": "Sr5FS1lIJKDj",
        "outputId": "083ddf3d-7d8c-4778-bb84-5bafad135256"
      },
      "source": [
        "model.fit(X_train,y_train,batch_size=300,epochs=20)"
      ],
      "execution_count": null,
      "outputs": [
        {
          "output_type": "stream",
          "text": [
            "Epoch 1/20\n",
            "200/200 [==============================] - 2s 3ms/step - loss: 0.5518 - accuracy: 0.8448\n",
            "Epoch 2/20\n",
            "200/200 [==============================] - 1s 3ms/step - loss: 0.1387 - accuracy: 0.9595\n",
            "Epoch 3/20\n",
            "200/200 [==============================] - 1s 3ms/step - loss: 0.0912 - accuracy: 0.9747\n",
            "Epoch 4/20\n",
            "200/200 [==============================] - 1s 3ms/step - loss: 0.0604 - accuracy: 0.9836\n",
            "Epoch 5/20\n",
            "200/200 [==============================] - 1s 3ms/step - loss: 0.0445 - accuracy: 0.9875\n",
            "Epoch 6/20\n",
            "200/200 [==============================] - 1s 3ms/step - loss: 0.0338 - accuracy: 0.9912\n",
            "Epoch 7/20\n",
            "200/200 [==============================] - 1s 3ms/step - loss: 0.0262 - accuracy: 0.9935\n",
            "Epoch 8/20\n",
            "200/200 [==============================] - 1s 3ms/step - loss: 0.0220 - accuracy: 0.9945\n",
            "Epoch 9/20\n",
            "200/200 [==============================] - 1s 3ms/step - loss: 0.0156 - accuracy: 0.9969\n",
            "Epoch 10/20\n",
            "200/200 [==============================] - 1s 3ms/step - loss: 0.0117 - accuracy: 0.9979\n",
            "Epoch 11/20\n",
            "200/200 [==============================] - 1s 3ms/step - loss: 0.0091 - accuracy: 0.9986\n",
            "Epoch 12/20\n",
            "200/200 [==============================] - 1s 3ms/step - loss: 0.0065 - accuracy: 0.9993\n",
            "Epoch 13/20\n",
            "200/200 [==============================] - 1s 3ms/step - loss: 0.0058 - accuracy: 0.9995\n",
            "Epoch 14/20\n",
            "200/200 [==============================] - 1s 3ms/step - loss: 0.0050 - accuracy: 0.9994\n",
            "Epoch 15/20\n",
            "200/200 [==============================] - 1s 3ms/step - loss: 0.0032 - accuracy: 0.9997\n",
            "Epoch 16/20\n",
            "200/200 [==============================] - 1s 3ms/step - loss: 0.0026 - accuracy: 0.9999\n",
            "Epoch 17/20\n",
            "200/200 [==============================] - 1s 3ms/step - loss: 0.0022 - accuracy: 1.0000\n",
            "Epoch 18/20\n",
            "200/200 [==============================] - 1s 3ms/step - loss: 0.0015 - accuracy: 1.0000\n",
            "Epoch 19/20\n",
            "200/200 [==============================] - 1s 3ms/step - loss: 0.0012 - accuracy: 1.0000\n",
            "Epoch 20/20\n",
            "200/200 [==============================] - 1s 3ms/step - loss: 0.0010 - accuracy: 1.0000\n"
          ],
          "name": "stdout"
        },
        {
          "output_type": "execute_result",
          "data": {
            "text/plain": [
              "<tensorflow.python.keras.callbacks.History at 0x7efd104996a0>"
            ]
          },
          "metadata": {
            "tags": []
          },
          "execution_count": 13
        }
      ]
    },
    {
      "cell_type": "markdown",
      "metadata": {
        "id": "Pdyyo5K6SEvp"
      },
      "source": [
        "## Evaluating Model"
      ]
    },
    {
      "cell_type": "code",
      "metadata": {
        "id": "O2XTggBYLEmR",
        "colab": {
          "base_uri": "https://localhost:8080/"
        },
        "outputId": "e301091c-57c2-418c-80dd-b0e62c11d099"
      },
      "source": [
        "test_loss, test_acc = model.evaluate(X_test, y_test)\n",
        "print(\"Test Accuracy: {:.2f}%\".format(test_acc*100))"
      ],
      "execution_count": null,
      "outputs": [
        {
          "output_type": "stream",
          "text": [
            "313/313 [==============================] - 1s 2ms/step - loss: 0.0605 - accuracy: 0.9835\n",
            "Test Accuracy: 98.35%\n"
          ],
          "name": "stdout"
        }
      ]
    },
    {
      "cell_type": "code",
      "metadata": {
        "colab": {
          "base_uri": "https://localhost:8080/"
        },
        "id": "zdRFI_TK29K7",
        "outputId": "d6061344-37a1-4dea-af65-17ccc3d667a1"
      },
      "source": [
        "prediction = model.predict(X_test)\n",
        "prediction"
      ],
      "execution_count": null,
      "outputs": [
        {
          "output_type": "execute_result",
          "data": {
            "text/plain": [
              "array([[1.28539498e-10, 4.92417652e-12, 1.53476041e-08, ...,\n",
              "        9.99997377e-01, 2.28639685e-09, 1.91248716e-07],\n",
              "       [1.05515414e-11, 1.28635588e-06, 9.99998689e-01, ...,\n",
              "        3.65000037e-20, 6.22381036e-09, 1.30578103e-17],\n",
              "       [2.44539278e-09, 9.99976635e-01, 3.97578287e-06, ...,\n",
              "        6.09122844e-06, 1.22933125e-05, 5.42581757e-09],\n",
              "       ...,\n",
              "       [6.74345296e-17, 8.62363481e-15, 4.50924276e-17, ...,\n",
              "        5.66304736e-09, 1.91541072e-09, 3.52008627e-08],\n",
              "       [2.91336474e-15, 1.25773897e-16, 1.40312000e-16, ...,\n",
              "        1.80519001e-14, 4.57784154e-07, 2.07147122e-16],\n",
              "       [1.91579981e-11, 5.39529748e-15, 6.42220695e-12, ...,\n",
              "        8.59275014e-19, 6.11656925e-14, 8.16839201e-17]], dtype=float32)"
            ]
          },
          "metadata": {
            "tags": []
          },
          "execution_count": 15
        }
      ]
    },
    {
      "cell_type": "code",
      "metadata": {
        "colab": {
          "base_uri": "https://localhost:8080/"
        },
        "id": "f8pKpXa-3GRc",
        "outputId": "e89b881d-557a-4910-e9cf-1b3dcba6155d"
      },
      "source": [
        "prediction = np.argmax(prediction, axis=1)\n",
        "print(prediction)\n",
        "print(prediction.shape)"
      ],
      "execution_count": null,
      "outputs": [
        {
          "output_type": "stream",
          "text": [
            "[7 2 1 ... 4 5 6]\n",
            "(10000,)\n"
          ],
          "name": "stdout"
        }
      ]
    },
    {
      "cell_type": "code",
      "metadata": {
        "colab": {
          "base_uri": "https://localhost:8080/"
        },
        "id": "bRkhsCD91hcr",
        "outputId": "267a6a2f-7016-4e97-94d8-8fe40d2badf5"
      },
      "source": [
        "#calculating various metrics\n",
        "print(\"\\n-------------------------Accuracy Score----------------------------\\n\\t\\t\\t     \",metrics.accuracy_score(test_target, prediction, normalize= True))\n",
        "print(\"\\n---------------------Classification Report-------------------------\\n\",metrics.classification_report(test_target, prediction))\n",
        "print(\"\\n--------------------------Confusion Matrix-------------------------\\n\",metrics.confusion_matrix(test_target,prediction))"
      ],
      "execution_count": null,
      "outputs": [
        {
          "output_type": "stream",
          "text": [
            "\n",
            "-------------------------Accuracy Score----------------------------\n",
            "\t\t\t      0.9835\n",
            "\n",
            "---------------------Classification Report-------------------------\n",
            "               precision    recall  f1-score   support\n",
            "\n",
            "           0       0.98      0.99      0.99       980\n",
            "           1       0.99      0.99      0.99      1135\n",
            "           2       0.98      0.98      0.98      1032\n",
            "           3       0.98      0.98      0.98      1010\n",
            "           4       0.99      0.98      0.99       982\n",
            "           5       0.99      0.98      0.98       892\n",
            "           6       0.99      0.99      0.99       958\n",
            "           7       0.99      0.98      0.98      1028\n",
            "           8       0.98      0.98      0.98       974\n",
            "           9       0.97      0.98      0.98      1009\n",
            "\n",
            "    accuracy                           0.98     10000\n",
            "   macro avg       0.98      0.98      0.98     10000\n",
            "weighted avg       0.98      0.98      0.98     10000\n",
            "\n",
            "\n",
            "--------------------------Confusion Matrix-------------------------\n",
            " [[ 972    1    1    0    1    0    2    1    2    0]\n",
            " [   0 1125    4    0    0    1    2    1    2    0]\n",
            " [   3    1 1013    2    1    0    2    4    5    1]\n",
            " [   0    0    2  994    0    2    0    2    2    8]\n",
            " [   2    0    2    1  963    0    3    2    1    8]\n",
            " [   2    0    0    9    1  875    2    0    2    1]\n",
            " [   4    2    1    1    2    3  945    0    0    0]\n",
            " [   1    5    6    1    0    0    0 1006    3    6]\n",
            " [   3    1    3    4    1    2    1    3  951    5]\n",
            " [   2    2    0    3    4    2    0    2    3  991]]\n"
          ],
          "name": "stdout"
        }
      ]
    },
    {
      "cell_type": "markdown",
      "metadata": {
        "id": "StXLwZMIxg12"
      },
      "source": [
        "# Fashion MNIST"
      ]
    },
    {
      "cell_type": "code",
      "metadata": {
        "id": "d7CWf5nSNNvK",
        "colab": {
          "base_uri": "https://localhost:8080/"
        },
        "outputId": "d6e76ee5-9a57-4d3a-fafc-4135b33d05e6"
      },
      "source": [
        "from keras.datasets import fashion_mnist\n",
        "(X_train,y_train),(X_test,y_test) = fashion_mnist.load_data()"
      ],
      "execution_count": null,
      "outputs": [
        {
          "output_type": "stream",
          "text": [
            "Downloading data from https://storage.googleapis.com/tensorflow/tf-keras-datasets/train-labels-idx1-ubyte.gz\n",
            "32768/29515 [=================================] - 0s 0us/step\n",
            "Downloading data from https://storage.googleapis.com/tensorflow/tf-keras-datasets/train-images-idx3-ubyte.gz\n",
            "26427392/26421880 [==============================] - 0s 0us/step\n",
            "Downloading data from https://storage.googleapis.com/tensorflow/tf-keras-datasets/t10k-labels-idx1-ubyte.gz\n",
            "8192/5148 [===============================================] - 0s 0us/step\n",
            "Downloading data from https://storage.googleapis.com/tensorflow/tf-keras-datasets/t10k-images-idx3-ubyte.gz\n",
            "4423680/4422102 [==============================] - 0s 0us/step\n"
          ],
          "name": "stdout"
        }
      ]
    },
    {
      "cell_type": "code",
      "metadata": {
        "colab": {
          "base_uri": "https://localhost:8080/"
        },
        "id": "Tee1_ZuhyhYV",
        "outputId": "d4ad5c8b-3797-494e-a408-51ba50f5ffd3"
      },
      "source": [
        "print(X_train.shape,y_train.shape)\n",
        "print(X_test.shape,y_test.shape)"
      ],
      "execution_count": null,
      "outputs": [
        {
          "output_type": "stream",
          "text": [
            "(60000, 28, 28) (60000,)\n",
            "(10000, 28, 28) (10000,)\n"
          ],
          "name": "stdout"
        }
      ]
    },
    {
      "cell_type": "code",
      "metadata": {
        "colab": {
          "base_uri": "https://localhost:8080/",
          "height": 160
        },
        "id": "ZUmMMnL9ynEJ",
        "outputId": "bf8a4b2d-79fb-4707-beef-3d1f46cd0e41"
      },
      "source": [
        "f, ax = plt.subplots(1, 10, figsize=(20,20))\n",
        "\n",
        "for i in range(0, 10):\n",
        "  sample = X_train[y_train == i][0]\n",
        "  ax[i].imshow(sample, cmap='gray')\n",
        "  ax[i].set_title(\"Label: {}\".format(i), fontsize=16)"
      ],
      "execution_count": null,
      "outputs": [
        {
          "output_type": "display_data",
          "data": {
            "image/png": "[encoded data removed]",
            "text/plain": [
              "<Figure size 1440x1440 with 10 Axes>"
            ]
          },
          "metadata": {
            "tags": [],
            "needs_background": "light"
          }
        }
      ]
    },
    {
      "cell_type": "code",
      "metadata": {
        "colab": {
          "base_uri": "https://localhost:8080/"
        },
        "id": "qNMcXUfpypEI",
        "outputId": "6df4987b-fbf6-45ff-84c0-a974ad28820e"
      },
      "source": [
        "y_train[0:10]"
      ],
      "execution_count": null,
      "outputs": [
        {
          "output_type": "execute_result",
          "data": {
            "text/plain": [
              "array([9, 0, 0, 3, 0, 2, 7, 2, 5, 5], dtype=uint8)"
            ]
          },
          "metadata": {
            "tags": []
          },
          "execution_count": 22
        }
      ]
    },
    {
      "cell_type": "code",
      "metadata": {
        "id": "RlhRpMrt3xiq"
      },
      "source": [
        "test_target = y_test  # saving target for checking accuracy"
      ],
      "execution_count": null,
      "outputs": []
    },
    {
      "cell_type": "code",
      "metadata": {
        "id": "IaBmzHNrytNK"
      },
      "source": [
        "y_train = keras.utils.to_categorical(y_train,num_classes=10)\n",
        "y_test = keras.utils.to_categorical(y_test,num_classes=10)"
      ],
      "execution_count": null,
      "outputs": []
    },
    {
      "cell_type": "code",
      "metadata": {
        "colab": {
          "base_uri": "https://localhost:8080/"
        },
        "id": "ywKBEwsYyu3G",
        "outputId": "63773a29-47a2-47ed-bcb2-f778a9b4964d"
      },
      "source": [
        "print(y_train[0:10])"
      ],
      "execution_count": null,
      "outputs": [
        {
          "output_type": "stream",
          "text": [
            "[[0. 0. 0. 0. 0. 0. 0. 0. 0. 1.]\n",
            " [1. 0. 0. 0. 0. 0. 0. 0. 0. 0.]\n",
            " [1. 0. 0. 0. 0. 0. 0. 0. 0. 0.]\n",
            " [0. 0. 0. 1. 0. 0. 0. 0. 0. 0.]\n",
            " [1. 0. 0. 0. 0. 0. 0. 0. 0. 0.]\n",
            " [0. 0. 1. 0. 0. 0. 0. 0. 0. 0.]\n",
            " [0. 0. 0. 0. 0. 0. 0. 1. 0. 0.]\n",
            " [0. 0. 1. 0. 0. 0. 0. 0. 0. 0.]\n",
            " [0. 0. 0. 0. 0. 1. 0. 0. 0. 0.]\n",
            " [0. 0. 0. 0. 0. 1. 0. 0. 0. 0.]]\n"
          ],
          "name": "stdout"
        }
      ]
    },
    {
      "cell_type": "code",
      "metadata": {
        "id": "lVtDVHF0yxzo"
      },
      "source": [
        "X_train = X_train/255\n",
        "X_test = X_test/255"
      ],
      "execution_count": null,
      "outputs": []
    },
    {
      "cell_type": "code",
      "metadata": {
        "colab": {
          "base_uri": "https://localhost:8080/"
        },
        "id": "irRAJT3uy1QK",
        "outputId": "331474d6-0420-42ff-c561-3dab98a569ad"
      },
      "source": [
        "X_train = X_train.reshape(X_train.shape[0],-1).astype('float32')\n",
        "X_test = X_test.reshape(X_test.shape[0],-1).astype('float32')\n",
        "\n",
        "print(X_train.shape)\n",
        "print(X_test.shape)"
      ],
      "execution_count": null,
      "outputs": [
        {
          "output_type": "stream",
          "text": [
            "(60000, 784)\n",
            "(10000, 784)\n"
          ],
          "name": "stdout"
        }
      ]
    },
    {
      "cell_type": "code",
      "metadata": {
        "colab": {
          "base_uri": "https://localhost:8080/"
        },
        "id": "wnohE2qKy4vJ",
        "outputId": "34fa0964-cc5f-4d0d-ed29-956303ddfe03"
      },
      "source": [
        "model = Sequential()\n",
        "\n",
        "model.add(Dense(units=512, input_shape = (784,), activation='relu'))\n",
        "model.add(Dense(units=512, activation='relu'))\n",
        "model.add(Dense(units=256, activation='relu'))\n",
        "\n",
        "model.add(Dropout(0.25))\n",
        "model.add(Dense(units=10, activation='softmax'))\n",
        "model.summary()"
      ],
      "execution_count": null,
      "outputs": [
        {
          "output_type": "stream",
          "text": [
            "Model: \"sequential_1\"\n",
            "_________________________________________________________________\n",
            "Layer (type)                 Output Shape              Param #   \n",
            "=================================================================\n",
            "dense_4 (Dense)              (None, 512)               401920    \n",
            "_________________________________________________________________\n",
            "dense_5 (Dense)              (None, 512)               262656    \n",
            "_________________________________________________________________\n",
            "dense_6 (Dense)              (None, 256)               131328    \n",
            "_________________________________________________________________\n",
            "dropout (Dropout)            (None, 256)               0         \n",
            "_________________________________________________________________\n",
            "dense_7 (Dense)              (None, 10)                2570      \n",
            "=================================================================\n",
            "Total params: 798,474\n",
            "Trainable params: 798,474\n",
            "Non-trainable params: 0\n",
            "_________________________________________________________________\n"
          ],
          "name": "stdout"
        }
      ]
    },
    {
      "cell_type": "code",
      "metadata": {
        "id": "bZo4jTBJy7Kg"
      },
      "source": [
        "model.compile(loss='categorical_crossentropy',optimizer='adam',metrics=['accuracy'])"
      ],
      "execution_count": null,
      "outputs": []
    },
    {
      "cell_type": "code",
      "metadata": {
        "colab": {
          "base_uri": "https://localhost:8080/"
        },
        "id": "o6r_hP46y93O",
        "outputId": "1bba4b3c-1b1d-4ea6-d190-a29137ac63e9"
      },
      "source": [
        "model.fit(X_train,y_train,batch_size=128,epochs=20)"
      ],
      "execution_count": null,
      "outputs": [
        {
          "output_type": "stream",
          "text": [
            "Epoch 1/20\n",
            "469/469 [==============================] - 2s 3ms/step - loss: 0.6647 - accuracy: 0.7625\n",
            "Epoch 2/20\n",
            "469/469 [==============================] - 1s 3ms/step - loss: 0.3707 - accuracy: 0.8659\n",
            "Epoch 3/20\n",
            "469/469 [==============================] - 1s 3ms/step - loss: 0.3310 - accuracy: 0.8763\n",
            "Epoch 4/20\n",
            "469/469 [==============================] - 1s 3ms/step - loss: 0.3022 - accuracy: 0.8871\n",
            "Epoch 5/20\n",
            "469/469 [==============================] - 1s 3ms/step - loss: 0.2844 - accuracy: 0.8942\n",
            "Epoch 6/20\n",
            "469/469 [==============================] - 1s 3ms/step - loss: 0.2674 - accuracy: 0.8991\n",
            "Epoch 7/20\n",
            "469/469 [==============================] - 1s 3ms/step - loss: 0.2533 - accuracy: 0.9047\n",
            "Epoch 8/20\n",
            "469/469 [==============================] - 1s 3ms/step - loss: 0.2447 - accuracy: 0.9094\n",
            "Epoch 9/20\n",
            "469/469 [==============================] - 1s 3ms/step - loss: 0.2268 - accuracy: 0.9151\n",
            "Epoch 10/20\n",
            "469/469 [==============================] - 1s 3ms/step - loss: 0.2267 - accuracy: 0.9126\n",
            "Epoch 11/20\n",
            "469/469 [==============================] - 1s 3ms/step - loss: 0.2146 - accuracy: 0.9174\n",
            "Epoch 12/20\n",
            "469/469 [==============================] - 1s 3ms/step - loss: 0.2085 - accuracy: 0.9215\n",
            "Epoch 13/20\n",
            "469/469 [==============================] - 1s 3ms/step - loss: 0.1930 - accuracy: 0.9248\n",
            "Epoch 14/20\n",
            "469/469 [==============================] - 1s 3ms/step - loss: 0.1906 - accuracy: 0.9265\n",
            "Epoch 15/20\n",
            "469/469 [==============================] - 1s 3ms/step - loss: 0.1819 - accuracy: 0.9301\n",
            "Epoch 16/20\n",
            "469/469 [==============================] - 1s 3ms/step - loss: 0.1787 - accuracy: 0.9316\n",
            "Epoch 17/20\n",
            "469/469 [==============================] - 1s 3ms/step - loss: 0.1642 - accuracy: 0.9364\n",
            "Epoch 18/20\n",
            "469/469 [==============================] - 1s 3ms/step - loss: 0.1630 - accuracy: 0.9369\n",
            "Epoch 19/20\n",
            "469/469 [==============================] - 1s 3ms/step - loss: 0.1604 - accuracy: 0.9383\n",
            "Epoch 20/20\n",
            "469/469 [==============================] - 1s 3ms/step - loss: 0.1508 - accuracy: 0.9411\n"
          ],
          "name": "stdout"
        },
        {
          "output_type": "execute_result",
          "data": {
            "text/plain": [
              "<tensorflow.python.keras.callbacks.History at 0x7fc5bc035710>"
            ]
          },
          "metadata": {
            "tags": []
          },
          "execution_count": 30
        }
      ]
    },
    {
      "cell_type": "code",
      "metadata": {
        "colab": {
          "base_uri": "https://localhost:8080/"
        },
        "id": "bU8A86uPzBNq",
        "outputId": "19786854-177e-44e5-e54f-85611967df82"
      },
      "source": [
        "test_loss, test_acc = model.evaluate(X_test, y_test)\n",
        "print(\"Test Accuracy: {:.2f}%\".format(test_acc*100))"
      ],
      "execution_count": null,
      "outputs": [
        {
          "output_type": "stream",
          "text": [
            "313/313 [==============================] - 1s 2ms/step - loss: 0.3363 - accuracy: 0.8947\n",
            "Test Accuracy: 89.47%\n"
          ],
          "name": "stdout"
        }
      ]
    },
    {
      "cell_type": "code",
      "metadata": {
        "colab": {
          "base_uri": "https://localhost:8080/"
        },
        "id": "u4R0KW1f36-k",
        "outputId": "3445aeb9-fbf3-4de2-fdd9-8ddf1c2b5289"
      },
      "source": [
        "prediction = model.predict(X_test)\n",
        "prediction"
      ],
      "execution_count": null,
      "outputs": [
        {
          "output_type": "execute_result",
          "data": {
            "text/plain": [
              "array([[1.91883748e-11, 2.71866334e-08, 2.22690658e-10, ...,\n",
              "        6.10578863e-05, 1.30622513e-10, 9.99938369e-01],\n",
              "       [1.26844493e-10, 1.26234426e-20, 9.99780715e-01, ...,\n",
              "        7.25687454e-18, 8.64093461e-16, 8.53874474e-21],\n",
              "       [1.97854923e-18, 1.00000000e+00, 2.33589583e-24, ...,\n",
              "        9.74198290e-35, 3.48530901e-25, 5.85680392e-24],\n",
              "       ...,\n",
              "       [1.52816182e-09, 3.92924058e-15, 1.11882162e-11, ...,\n",
              "        7.22120009e-13, 9.99999881e-01, 2.03361484e-13],\n",
              "       [8.53184326e-17, 1.00000000e+00, 1.08348354e-22, ...,\n",
              "        8.59207904e-30, 1.36439645e-20, 1.21569232e-20],\n",
              "       [7.65390140e-10, 3.48489480e-14, 3.52285170e-08, ...,\n",
              "        3.68165729e-08, 2.53438230e-08, 2.24580729e-10]], dtype=float32)"
            ]
          },
          "metadata": {
            "tags": []
          },
          "execution_count": 32
        }
      ]
    },
    {
      "cell_type": "code",
      "metadata": {
        "colab": {
          "base_uri": "https://localhost:8080/"
        },
        "id": "lo03WtEb39B5",
        "outputId": "82ad90aa-719a-4f83-e831-87075b479390"
      },
      "source": [
        "prediction = np.argmax(prediction, axis=1)\n",
        "print(prediction)\n",
        "print(prediction.shape)"
      ],
      "execution_count": null,
      "outputs": [
        {
          "output_type": "stream",
          "text": [
            "[9 2 1 ... 8 1 5]\n",
            "(10000,)\n"
          ],
          "name": "stdout"
        }
      ]
    },
    {
      "cell_type": "code",
      "metadata": {
        "colab": {
          "base_uri": "https://localhost:8080/"
        },
        "id": "afzSqXE04AEw",
        "outputId": "95eb568f-51a1-4e04-9a88-90d90b32c984"
      },
      "source": [
        "#calculating various metrics\n",
        "print(\"\\n-------------------------Accuracy Score----------------------------\\n\\t\\t\\t     \",metrics.accuracy_score(test_target, prediction, normalize= True))\n",
        "print(\"\\n---------------------Classification Report-------------------------\\n\",metrics.classification_report(test_target, prediction))\n",
        "print(\"\\n--------------------------Confusion Matrix-------------------------\\n\",metrics.confusion_matrix(test_target,prediction))"
      ],
      "execution_count": null,
      "outputs": [
        {
          "output_type": "stream",
          "text": [
            "\n",
            "-------------------------Accuracy Score----------------------------\n",
            "\t\t\t      0.8947\n",
            "\n",
            "---------------------Classification Report-------------------------\n",
            "               precision    recall  f1-score   support\n",
            "\n",
            "           0       0.86      0.83      0.84      1000\n",
            "           1       0.99      0.98      0.99      1000\n",
            "           2       0.80      0.81      0.80      1000\n",
            "           3       0.91      0.90      0.90      1000\n",
            "           4       0.81      0.83      0.82      1000\n",
            "           5       0.98      0.96      0.97      1000\n",
            "           6       0.73      0.73      0.73      1000\n",
            "           7       0.94      0.97      0.96      1000\n",
            "           8       0.97      0.98      0.98      1000\n",
            "           9       0.97      0.96      0.96      1000\n",
            "\n",
            "    accuracy                           0.89     10000\n",
            "   macro avg       0.90      0.89      0.89     10000\n",
            "weighted avg       0.90      0.89      0.89     10000\n",
            "\n",
            "\n",
            "--------------------------Confusion Matrix-------------------------\n",
            " [[828   1  24  18   4   0 114   0  11   0]\n",
            " [  4 979   0  10   3   0   2   0   2   0]\n",
            " [ 13   0 810   7 107   0  61   0   2   0]\n",
            " [ 18   4  17 900  32   0  24   0   5   0]\n",
            " [  0   0  78  27 827   0  66   0   2   0]\n",
            " [  0   0   0   1   0 960   0  24   1  14]\n",
            " [100   0  82  28  50   0 732   0   8   0]\n",
            " [  0   0   0   0   0   8   0 973   0  19]\n",
            " [  5   1   3   3   0   1   3   3 981   0]\n",
            " [  0   0   0   0   0   6   1  36   0 957]]\n"
          ],
          "name": "stdout"
        }
      ]
    }
  ]
}